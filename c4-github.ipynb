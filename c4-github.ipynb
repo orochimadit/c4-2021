{
 "cells": [
  {
   "cell_type": "code",
   "execution_count": 2,
   "id": "60e5d96f",
   "metadata": {},
   "outputs": [
    {
     "name": "stdout",
     "output_type": "stream",
     "text": [
      "Hallo guys\n",
      "perubahan baris ke dua\n"
     ]
    }
   ],
   "source": [
    "print(\"Hallo guys\")\n",
    "print(\"perubahan baris ke dua\")"
   ]
  },
  {
   "cell_type": "code",
   "execution_count": 3,
   "id": "9c433a98",
   "metadata": {},
   "outputs": [
    {
     "name": "stdout",
     "output_type": "stream",
     "text": [
      "perubahan lagi\n"
     ]
    }
   ],
   "source": [
    "print(\"perubahan lagi\")"
   ]
  },
  {
   "cell_type": "code",
   "execution_count": null,
   "id": "a710f955",
   "metadata": {},
   "outputs": [],
   "source": []
  },
  {
   "cell_type": "code",
   "execution_count": null,
   "id": "6a99942e",
   "metadata": {},
   "outputs": [],
   "source": []
  }
 ],
 "metadata": {
  "kernelspec": {
   "display_name": "Python 3",
   "language": "python",
   "name": "python3"
  },
  "language_info": {
   "codemirror_mode": {
    "name": "ipython",
    "version": 3
   },
   "file_extension": ".py",
   "mimetype": "text/x-python",
   "name": "python",
   "nbconvert_exporter": "python",
   "pygments_lexer": "ipython3",
   "version": "3.8.8"
  }
 },
 "nbformat": 4,
 "nbformat_minor": 5
}
